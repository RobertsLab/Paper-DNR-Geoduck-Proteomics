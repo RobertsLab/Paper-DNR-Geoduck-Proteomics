{
 "cells": [
  {
   "cell_type": "markdown",
   "metadata": {},
   "source": [
    "# Prepare files for PECAN\n"
   ]
  },
  {
   "cell_type": "markdown",
   "metadata": {},
   "source": [
    "Prior to running PECAN you must do the following:\n",
    "\n",
    "  1. Remove extraneous header text from geoduck gonad transcriptome fasta file (our background proteome)\n",
    "  2. Add Peptide Retention Time Calibration mixture fasta sequence to background database file\n",
    "  3. Digest background proteome fasta into peptide fragments using Protein Digestion Simulator  \n",
    "  4. Convert Isolation scheme (from Emma from Lumos) to .csv file \n",
    "  5. Create .txt file with list of paths to all mzML files  \n",
    "\n",
    "Note: you also need a .txt file listing the name of the background proteome database. This has already been created, and is located in [DNR_Geoduck_DatabasePath.txt](../analyses/DIA/DNR_Geoduck_DatabasePath.txt)"
   ]
  },
  {
   "cell_type": "markdown",
   "metadata": {},
   "source": [
    "----\n",
    "\n",
    "## Step 1. Remove extraneous info from background proteome \n",
    "\n",
    "I received a protein fasta file from Steven, which will be used as the background proteome in PECAN.  First step is to edit the header data of each protein sequence to remove extraneous text. I do so in the following steps.  The resulting fasta file is saved on Owl, so feel free to download this file and skip to step 3. \n",
    "\n",
    "#### Input File: Geoduck gonad transcriptome fasta file [Geoduck-transcriptome-v2.transdecoder.pep](https://raw.githubusercontent.com/sr320/paper-pano-go/52c6b18b5b09e5c3a49250cf47ad4ddc8e9dc004/data-results/Geoduck-transcriptome-v2.transdecoder.pep)\n",
    "#### Output File: Geoduck gonad transcriptome fasta file with extraneous info removed from each header line [Geoduck-transcriptome-v2.transdecoder_TrimmedHeadr.pep](http://owl.fish.washington.edu/generosa/Generosa_DNR/Geoduck-transcriptome-v2.transdecoder_TrimmedHeadr.pep)"
   ]
  },
  {
   "cell_type": "code",
   "execution_count": 14,
   "metadata": {
    "collapsed": false
   },
   "outputs": [
    {
     "name": "stdout",
     "output_type": "stream",
     "text": [
      ">cds.comp100047_c0_seq1|m.5980 comp100047_c0_seq1|g.5980  ORF comp100047_c0_seq1|g.5980 comp100047_c0_seq1|m.5980 type:internal len:142 (-) comp100047_c0_seq1:3-425(-)\r\n",
      "NAECRDLYKIFTQILSVRSQEGKIVIPDEFATKIRNWLGNKEELFKEAHNQKIITFYNEY\r\n",
      "TREENTFNPIRGKRPMSVPDMPERKYIDQLSRKTQSQCDFCKYKTFTAEDTFGRIDSNFS\r\n",
      "CSASNAFKLDHWHALFLLKTH\r\n",
      ">cds.comp100068_c0_seq1|m.5981 comp100068_c0_seq1|g.5981  ORF comp100068_c0_seq1|g.5981 comp100068_c0_seq1|m.5981 type:internal len:106 (-) comp100068_c0_seq1:1-315(-)\r\n",
      "LFLDKSGKRICSFNNLTAVIEKATERASRIRLAKGLSQPKYLSCGNVDKVPAPGYLTASF\r\n",
      "TQLSVNKTRKDKGRNHLLLWDQTSSYSYIGPGIHYKDGKIRVNTT\r\n",
      ">cds.comp100097_c0_seq1|m.5982 comp100097_c0_seq1|g.5982  ORF comp100097_c0_seq1|g.5982 comp100097_c0_seq1|m.5982 type:internal len:227 (+) comp100097_c0_seq1:2-679(+)\r\n",
      "GTENLRICLKVIETYLLLGPREFLELYSGDLVHSLSNLLSDLRTEGVLLVLRVIELVLKS\r\n",
      "FPTEGPALFKSMLPEFLRAVLNKDEHPVVMSLYLTLFGRIVLQNQEFFWNFLDQMAMESH\r\n"
     ]
    }
   ],
   "source": [
    "# Let's see what the current header looks like\n",
    "!head ../../data/DIA/Geoduck-transcriptome-v2.transdecoder.pep"
   ]
  },
  {
   "cell_type": "code",
   "execution_count": 15,
   "metadata": {
    "collapsed": false
   },
   "outputs": [
    {
     "name": "stdout",
     "output_type": "stream",
     "text": [
      "35951\r\n"
     ]
    }
   ],
   "source": [
    "# Count how many lines there are in the fasta file pre-trimmed\n",
    "! grep -c '>' ../../data/DIA/Geoduck-transcriptome-v2.transdecoder.pep"
   ]
  },
  {
   "cell_type": "code",
   "execution_count": 18,
   "metadata": {
    "collapsed": true
   },
   "outputs": [],
   "source": [
    "# Remove extraneous text \n",
    "! cut -d \" \" -f 1 ../../data/DIA/Geoduck-transcriptome-v2.transdecoder.pep > \\\n",
    "../../data/DIA/Geoduck-transcriptome-v2.transdecoder_TrimmedHeadr.pep"
   ]
  },
  {
   "cell_type": "code",
   "execution_count": 19,
   "metadata": {
    "collapsed": false
   },
   "outputs": [
    {
     "name": "stdout",
     "output_type": "stream",
     "text": [
      "35951\r\n"
     ]
    }
   ],
   "source": [
    "# Confirm that I didn't lose any lines \n",
    "! grep -c '>' ../../data/DIA/Geoduck-transcriptome-v2.transdecoder_TrimmedHeadr.pep"
   ]
  },
  {
   "cell_type": "code",
   "execution_count": 20,
   "metadata": {
    "collapsed": false,
    "scrolled": true
   },
   "outputs": [
    {
     "name": "stdout",
     "output_type": "stream",
     "text": [
      ">cds.comp100047_c0_seq1|m.5980\r\n",
      "NAECRDLYKIFTQILSVRSQEGKIVIPDEFATKIRNWLGNKEELFKEAHNQKIITFYNEY\r\n",
      "TREENTFNPIRGKRPMSVPDMPERKYIDQLSRKTQSQCDFCKYKTFTAEDTFGRIDSNFS\r\n",
      "CSASNAFKLDHWHALFLLKTH\r\n",
      ">cds.comp100068_c0_seq1|m.5981\r\n",
      "LFLDKSGKRICSFNNLTAVIEKATERASRIRLAKGLSQPKYLSCGNVDKVPAPGYLTASF\r\n",
      "TQLSVNKTRKDKGRNHLLLWDQTSSYSYIGPGIHYKDGKIRVNTT\r\n",
      ">cds.comp100097_c0_seq1|m.5982\r\n",
      "GTENLRICLKVIETYLLLGPREFLELYSGDLVHSLSNLLSDLRTEGVLLVLRVIELVLKS\r\n",
      "FPTEGPALFKSMLPEFLRAVLNKDEHPVVMSLYLTLFGRIVLQNQEFFWNFLDQMAMESH\r\n"
     ]
    }
   ],
   "source": [
    "# Preview the edited fasta file \n",
    "! head ../../data/DIA/Geoduck-transcriptome-v2.transdecoder_TrimmedHeadr.pep"
   ]
  },
  {
   "cell_type": "markdown",
   "metadata": {},
   "source": [
    "--- \n",
    "\n",
    "## Step 2. Combine PRTC fasta with transcriptome fasta\n",
    "\n",
    "We added a standard, the PRTC to each sample before injecting during our mass spec run.  We need to include them in our background database so that PECAN assigns the transitions associated with PRTC correctly.\n",
    "\n",
    "* **Input Files:**\n",
    "  - Peptide Retention Time Calibration mixture (PRTC) protein sequence, fasta file: [P00000_Pierce_prtc.fasta](../../data/DIA/P00000_Pierce_prtc.fasta)\n",
    "  - Geoduck transcriptome with trimmed header, from Step 2: [Geoduck-transcriptome-v2.transdecoder_TrimmedHeadr.pep](http://owl.fish.washington.edu/generosa/Generosa_DNR/Geoduck-transcriptome-v2.transdecoder_TrimmedHeadr.pep)  \n",
    "* **Output File:** Combined geoduck transcriptome + PRTC fasta file: [GeoTranscriptomePRTC.fasta](http://owl.fish.washington.edu/generosa/Generosa_DNR/GeoTranscriptomePRTC.fasta)"
   ]
  },
  {
   "cell_type": "code",
   "execution_count": 9,
   "metadata": {
    "collapsed": false
   },
   "outputs": [
    {
     "name": "stdout",
     "output_type": "stream",
     "text": [
      ">P00000 Pierce Peptide Retention Time Calibration Mixture\r",
      "\r\n",
      "SSAAPPPPPRGISNEGQNASIKHVLTSIGEKDIPVPKPKIGDYAGIKTASEFDSAIAQDKSAAGAFGPELSRELGQSGVDTYLQTKGLILVGGYGTR\r",
      "\r\n",
      "GILFVGSGVSGGEEGARSFANQPLEVVYSKLTILEELRNGFILDGFPRELASGLSFPVGFKLSSEAPALFQFDLK\r",
      "\r\n"
     ]
    }
   ],
   "source": [
    "# Inspect PRTC fasta; it's short so we can print the whole thing out\n",
    "! cat ../data/DIA/P00000_Pierce_prtc.fasta"
   ]
  },
  {
   "cell_type": "code",
   "execution_count": 16,
   "metadata": {
    "collapsed": false
   },
   "outputs": [
    {
     "name": "stdout",
     "output_type": "stream",
     "text": [
      "QLHVLNLLVLLLPSVHRDMLEAVLDFLEKVVEHSATNKMSLSNVAMIMAPNLFMSPKVRA\r\n",
      "SPPGKTKRAWEIEIKMA\r\n",
      ">cds.comp99988_c0_seq1|m.5978\r\n",
      "INVNFSRFNESNLSLSGWANSGFHPAIEFECSKPLPLVGVSLFNPCREGEANGTLEVLDK\r\n",
      "DKVLICMNVNLVYDASKHYVDVMFQKPIHIDATKRYTLRQTLKGTDLTHGLNGNNVIEDK\r\n",
      "GVKVAFFTSNKDTGGSYEVYGQFFGIIFKC*\r\n",
      ">cds.comp99988_c0_seq2|m.5979\r\n",
      "INVNFSRFNESNLSLSGWANSGFHPAIEFECSKPLPLVGVSLFNPCREGEANGTLEVLDK\r\n",
      "DKVLICMNVNLVYDASKHYVDVMFQKPIHIDATKRYTLRQTLKGTDLTHGLNGNNVIEDK\r\n",
      "GVKVAFFTSNKDTGGSYEVYGQFFGIIFKC*\r\n"
     ]
    }
   ],
   "source": [
    "# Inspect the trimmed header geoduck transcriptome fasta; it's super long so let's just look at the tail, since we'll be adding the PRTC sequence to the end of this file\n",
    "! tail ../data/DIA/Geoduck-transcriptome-v2.transdecoder_TrimmedHeadr.pep"
   ]
  },
  {
   "cell_type": "code",
   "execution_count": 13,
   "metadata": {
    "collapsed": true
   },
   "outputs": [],
   "source": [
    "# Combine the two files\n",
    "! cat ../data/DIA/Geoduck-transcriptome-v2.transdecoder_TrimmedHeadr.pep ../data/DIA/P00000_Pierce_prtc.fasta > GeoTranscriptomePRTC.fasta"
   ]
  },
  {
   "cell_type": "code",
   "execution_count": 15,
   "metadata": {
    "collapsed": false
   },
   "outputs": [
    {
     "name": "stdout",
     "output_type": "stream",
     "text": [
      "INVNFSRFNESNLSLSGWANSGFHPAIEFECSKPLPLVGVSLFNPCREGEANGTLEVLDK\r\n",
      "DKVLICMNVNLVYDASKHYVDVMFQKPIHIDATKRYTLRQTLKGTDLTHGLNGNNVIEDK\r\n",
      "GVKVAFFTSNKDTGGSYEVYGQFFGIIFKC*\r\n",
      ">cds.comp99988_c0_seq2|m.5979\r\n",
      "INVNFSRFNESNLSLSGWANSGFHPAIEFECSKPLPLVGVSLFNPCREGEANGTLEVLDK\r\n",
      "DKVLICMNVNLVYDASKHYVDVMFQKPIHIDATKRYTLRQTLKGTDLTHGLNGNNVIEDK\r\n",
      "GVKVAFFTSNKDTGGSYEVYGQFFGIIFKC*\r\n",
      ">P00000 Pierce Peptide Retention Time Calibration Mixture\r",
      "\r\n",
      "SSAAPPPPPRGISNEGQNASIKHVLTSIGEKDIPVPKPKIGDYAGIKTASEFDSAIAQDKSAAGAFGPELSRELGQSGVDTYLQTKGLILVGGYGTR\r",
      "\r\n",
      "GILFVGSGVSGGEEGARSFANQPLEVVYSKLTILEELRNGFILDGFPRELASGLSFPVGFKLSSEAPALFQFDLK\r",
      "\r\n"
     ]
    }
   ],
   "source": [
    "# Inspect the tail of the resulting file\n",
    "! tail GeoTranscriptomePRTC.fasta"
   ]
  },
  {
   "cell_type": "code",
   "execution_count": 17,
   "metadata": {
    "collapsed": false
   },
   "outputs": [
    {
     "name": "stdout",
     "output_type": "stream",
     "text": [
      "35952\r\n"
     ]
    }
   ],
   "source": [
    "# See how many lines we have in the resulting file. From Step 1 we know we should have 35951 geoduck + 1 PRTC lines = 35952 lines\n",
    "! grep -c '>' GeoTranscriptomePRTC.fasta"
   ]
  },
  {
   "cell_type": "markdown",
   "metadata": {},
   "source": [
    "---\n",
    "\n",
    "## Step 3. Digest background fasta into peptides\n",
    "\n",
    "Before running PECAN is to tryptic digest our geoduck transcriptome + PRTC fasta file (generated in Step 2) _in silico_. We will use the Protein Digestion Simulator program, which breaks up our fasta into fragments, just like we did in our sample prep. The resulting file will constitute the \"background database\" to identify peptides measured in DIA data. \n",
    "\n",
    "* **Input file:** Combined geoduck transcriptome + PRTC fasta file: [GeoTranscriptomePRTC.fasta](http://owl.fish.washington.edu/generosa/Generosa_DNR/GeoTranscriptomePRTC.fasta)\n",
    "* **Output File:** Combined geoduck transcriptome + PRTC fasta file, tryptic digested into peptides [GeoTranscriptomePRTC_digested_Mass400to6000.txt](http://owl.fish.washington.edu/generosa/Generosa_DNR/GeoTranscriptomePRTC_digested_Mass400to6000.txt)\n",
    "\n",
    "### Software Needed: \n",
    " * Command/Terminal window in Windows\n",
    " * [Protein Digestion Simulator](https://omics.pnl.gov/software/protein-digestion-simulator); verison used, installed on Woodpecker: 2.2.6471.25262 \n",
    "![PDS about](../../images/PDS00.png)\n",
    "\n",
    "#### The following are screen shots showing settings used in PDS; note I selected the transcriptome with trimmed header for our input file, which we generated in Step 1 of this notebook. \n",
    "\n",
    "#### Tab 1:\n",
    "![PDS tab 1](../../images/PDS01.png)\n",
    "\n",
    "#### Tab 2:\n",
    "![PDS tab 2](../../images/PDS02.png)\n",
    "\n",
    "#### Tab 3:\n",
    "![PDS tab 3](../../images/PDS03.png)\n",
    "\n",
    "#### Tab 4:\n",
    "![PDS tab 4](../../images/PDS04.png)\n",
    "\n",
    "#### Go back to Tab 2 to execute the digestion: \n",
    "![PDS pushing \"go\"](../../images/PDS06.png)\n",
    "\n",
    "#### The digestion took ~30 minutes; you can watch the % complete on the Progress tab: \n",
    "![PDS progress](../../images/PDS07.png)\n",
    "\n",
    "#### When complete a box will pop up describing how many proteins were processed. We know we should have 35952 proteins (from step 2 of this notebook):\n",
    "![PDS complete](../../images/PDS08.png)"
   ]
  },
  {
   "cell_type": "markdown",
   "metadata": {},
   "source": [
    "---\n",
    "## Step 4. Convert isolation scheme text file to .csv\n",
    "\n",
    "Emma sent us the isolation scheme file, extracted from Lumos. To use this in PECAN we need it in .csv format\n",
    "\n",
    "* **Input File:** [2017_January_23_envtstress_geoduck1_isoscheme.txt](../data/DIA/2017_January_23_envtstress_geoduck1_isoscheme.txt). \n",
    "* **Output File:** [DNR_Geoduck_IsolationScheme.csv](../data/DIA/DNR_Geoduck_IsolationScheme.csv)\n",
    "\n",
    "To convert, I simply opened the .txt file in Excel, then saved as .csv and re-named:\n",
    "![save-as csv](../images/Isolation-scheme-csv.png)"
   ]
  },
  {
   "cell_type": "markdown",
   "metadata": {},
   "source": [
    "---\n",
    "## Step 5. Create a .txt file with list of paths to all mzML files\n",
    "\n",
    "PECAN needs a list of the DIA data files (in .mzML format) in order to execute the run, so we need to create a .txt file that lists all .mzml file names. \n",
    "\n",
    "* **Input File:** R-script to extract .mzML file names and create a .txt file: [Script01-File-path-for-PECAN.R](https://github.com/RobertsLab/Paper-DNR-Geoduck-Proteomics/raw/master/analyses/DIA/Script01-File-path-for-PECAN.R)\n",
    "* **Output File:** Text file: [DNR_Geoduck_mzMLpath.txt](../analyses/DIA/2017-Geoduck-DIA-raw/DNR_Geoduck_mzMLpath.txt)   "
   ]
  },
  {
   "cell_type": "markdown",
   "metadata": {},
   "source": [
    "---\n",
    "\n",
    "### You are now ready to move to Notebook 03, [Building a Spectral Library with PECAN](../notebooks/DIA/03-Building%20Spectral%20Library%20with%20PECAN%20.ipynb)"
   ]
  },
  {
   "cell_type": "code",
   "execution_count": null,
   "metadata": {
    "collapsed": true
   },
   "outputs": [],
   "source": []
  }
 ],
 "metadata": {
  "kernelspec": {
   "display_name": "Python [default]",
   "language": "python",
   "name": "python3"
  },
  "language_info": {
   "codemirror_mode": {
    "name": "ipython",
    "version": 3
   },
   "file_extension": ".py",
   "mimetype": "text/x-python",
   "name": "python",
   "nbconvert_exporter": "python",
   "pygments_lexer": "ipython3",
   "version": "3.5.2"
  }
 },
 "nbformat": 4,
 "nbformat_minor": 2
}
