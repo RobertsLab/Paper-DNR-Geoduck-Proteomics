{
 "cells": [
  {
   "cell_type": "markdown",
   "metadata": {},
   "source": [
    "## In this notebook I mount Owl on Emu (as Windows) in order to access Lumos MS/MS .raw files from the Geoduck Proteomics DIA run."
   ]
  },
  {
   "cell_type": "code",
   "execution_count": 1,
   "metadata": {
    "collapsed": false
   },
   "outputs": [
    {
     "name": "stdout",
     "output_type": "stream",
     "text": [
      "Password:\n"
     ]
    }
   ],
   "source": [
    "# This is how to mounting my Owl folder to Emu \n",
    "! sudo mount -t cifs -o username=lhs3 //owl.fish.washington.edu/web ~/Documents/Laura/owl_generosa"
   ]
  },
  {
   "cell_type": "code",
   "execution_count": 1,
   "metadata": {
    "collapsed": false
   },
   "outputs": [
    {
     "data": {
      "text/plain": [
       "u'/home/srlab/Documents/Laura/Jupyter'"
      ]
     },
     "execution_count": 1,
     "metadata": {},
     "output_type": "execute_result"
    }
   ],
   "source": [
    "pwd"
   ]
  },
  {
   "cell_type": "code",
   "execution_count": 2,
   "metadata": {
    "collapsed": false
   },
   "outputs": [
    {
     "name": "stdout",
     "output_type": "stream",
     "text": [
      "/home/srlab/Documents/Laura/DNR_geoduck\n"
     ]
    }
   ],
   "source": [
    "cd ../DNR_geoduck/"
   ]
  },
  {
   "cell_type": "code",
   "execution_count": 3,
   "metadata": {
    "collapsed": false,
    "scrolled": true
   },
   "outputs": [
    {
     "name": "stdout",
     "output_type": "stream",
     "text": [
      "2017_January_23_envtstress_blank10.raw\r\n",
      "2017_January_23_envtstress_blank11.raw\r\n",
      "2017_January_23_envtstress_blank12.raw\r\n",
      "2017_January_23_envtstress_blank13.raw\r\n",
      "2017_January_23_envtstress_blank14.raw\r\n",
      "2017_January_23_envtstress_blank15.raw\r\n",
      "2017_January_23_envtstress_blank16.raw\r\n",
      "2017_January_23_envtstress_blank18.raw\r\n",
      "2017_January_23_envtstress_blank19.raw\r\n",
      "2017_January_23_envtstress_blank1.raw\r\n",
      "2017_January_23_envtstress_blank20.raw\r\n",
      "2017_January_23_envtstress_blank21_170126134757.raw\r\n",
      "2017_January_23_envtstress_blank21.raw\r\n",
      "2017_January_23_envtstress_blank2_2.raw\r\n",
      "2017_January_23_envtstress_blank22.raw\r\n",
      "2017_January_23_envtstress_blank23.raw\r\n",
      "2017_January_23_envtstress_blank24.raw\r\n",
      "2017_January_23_envtstress_blank2.raw\r\n",
      "2017_January_23_envtstress_blank3.raw\r\n",
      "2017_January_23_envtstress_blank4.raw\r\n",
      "2017_January_23_envtstress_blank5.raw\r\n",
      "2017_January_23_envtstress_blank6.raw\r\n",
      "2017_January_23_envtstress_blank7_170124182434.raw\r\n",
      "2017_January_23_envtstress_blank7.raw\r\n",
      "2017_January_23_envtstress_blank8_170124213729.raw\r\n",
      "2017_January_23_envtstress_blank8.raw\r\n",
      "2017_January_23_envtstress_blank9.raw\r\n",
      "2017_January_23_envtstress_geoduck10.raw\r\n",
      "2017_January_23_envtstress_geoduck11.raw\r\n",
      "2017_January_23_envtstress_geoduck12.raw\r\n",
      "2017_January_23_envtstress_geoduck13.raw\r\n",
      "2017_January_23_envtstress_geoduck14.raw\r\n",
      "2017_January_23_envtstress_geoduck15.raw\r\n",
      "2017_January_23_envtstress_geoduck17.raw\r\n",
      "2017_January_23_envtstress_geoduck18.raw\r\n",
      "2017_January_23_envtstress_geoduck19.raw\r\n",
      "2017_January_23_envtstress_geoduck1.raw\r\n",
      "2017_January_23_envtstress_geoduck20.raw\r\n",
      "2017_January_23_envtstress_geoduck2.raw\r\n",
      "2017_January_23_envtstress_geoduck3.raw\r\n",
      "2017_January_23_envtstress_geoduck4.raw\r\n",
      "2017_January_23_envtstress_geoduck5.raw\r\n",
      "2017_January_23_envtstress_geoduck6.raw\r\n",
      "2017_January_23_envtstress_geoduck7_170124190430.raw\r\n",
      "2017_January_23_envtstress_geoduck7.raw\r\n",
      "2017_January_23_envtstress_geoduck8.raw\r\n",
      "2017_January_23_envtstress_geoduck9.raw\r\n",
      "40min_Blank_2a85ec5b-43bf-4ca9-ba53-79d8b9c9489f..meth\r\n",
      "geoduck_DIA_5_30%B_110min_OTMS2_AGC_2e3.meth\r\n",
      "Geoduck-transcriptome-v2.transdecoder.pep\r\n",
      "index.cgi?launchApp=SYNO.SDS.App.FileStation3.Instance\r\n",
      "raw_checksum.sha\r\n"
     ]
    }
   ],
   "source": [
    "ls"
   ]
  },
  {
   "cell_type": "code",
   "execution_count": 4,
   "metadata": {
    "collapsed": false
   },
   "outputs": [
    {
     "name": "stdout",
     "output_type": "stream",
     "text": [
      "2dc82dc2436495877bf0c6573709e99a0619a1b7  ../Lumos_Raw/2017_January_23_envtstress_blank10.raw\r\n",
      "ef03609dcee24be3077ca28dc2697145d0953b5a  ../Lumos_Raw/2017_January_23_envtstress_blank11.raw\r\n",
      "99ba768fe771a63030a442fd0178c623155e5f84  ../Lumos_Raw/2017_January_23_envtstress_blank12.raw\r\n",
      "1686a1d29a003d5f85312edb5b4421ed58f2e9cb  ../Lumos_Raw/2017_January_23_envtstress_blank13.raw\r\n",
      "6d171848e74921dcae396f28efa6d7ffd1fead4b  ../Lumos_Raw/2017_January_23_envtstress_blank14.raw\r\n",
      "d8a8fb90ac80f1e1a7f9fe34d2d1bb022258dd28  ../Lumos_Raw/2017_January_23_envtstress_blank15.raw\r\n",
      "345c9b40bc60a39b30ba989bb1671e728d85fafe  ../Lumos_Raw/2017_January_23_envtstress_blank16.raw\r\n",
      "d86fdf12ac72307fe910b277167e8c83f8b35297  ../Lumos_Raw/2017_January_23_envtstress_blank18.raw\r\n",
      "cb224a12915a5613ef9ed456cc34252197ea23c0  ../Lumos_Raw/2017_January_23_envtstress_blank19.raw\r\n",
      "a46b7e7a94ff5c640ed43b42265a7daa956544cf  ../Lumos_Raw/2017_January_23_envtstress_blank1.raw\r\n"
     ]
    }
   ],
   "source": [
    "! head raw_checksum.sha"
   ]
  },
  {
   "cell_type": "code",
   "execution_count": 5,
   "metadata": {
    "collapsed": true
   },
   "outputs": [],
   "source": [
    "! shasum /home/srlab/Documents/Laura/DNR_geoduck/*raw > rawlocal_checksum.sha"
   ]
  },
  {
   "cell_type": "code",
   "execution_count": 6,
   "metadata": {
    "collapsed": false
   },
   "outputs": [
    {
     "name": "stdout",
     "output_type": "stream",
     "text": [
      "2017_January_23_envtstress_blank10.raw\r\n",
      "2017_January_23_envtstress_blank11.raw\r\n",
      "2017_January_23_envtstress_blank12.raw\r\n",
      "2017_January_23_envtstress_blank13.raw\r\n",
      "2017_January_23_envtstress_blank14.raw\r\n",
      "2017_January_23_envtstress_blank15.raw\r\n",
      "2017_January_23_envtstress_blank16.raw\r\n",
      "2017_January_23_envtstress_blank18.raw\r\n",
      "2017_January_23_envtstress_blank19.raw\r\n",
      "2017_January_23_envtstress_blank1.raw\r\n",
      "2017_January_23_envtstress_blank20.raw\r\n",
      "2017_January_23_envtstress_blank21_170126134757.raw\r\n",
      "2017_January_23_envtstress_blank21.raw\r\n",
      "2017_January_23_envtstress_blank2_2.raw\r\n",
      "2017_January_23_envtstress_blank22.raw\r\n",
      "2017_January_23_envtstress_blank23.raw\r\n",
      "2017_January_23_envtstress_blank24.raw\r\n",
      "2017_January_23_envtstress_blank2.raw\r\n",
      "2017_January_23_envtstress_blank3.raw\r\n",
      "2017_January_23_envtstress_blank4.raw\r\n",
      "2017_January_23_envtstress_blank5.raw\r\n",
      "2017_January_23_envtstress_blank6.raw\r\n",
      "2017_January_23_envtstress_blank7_170124182434.raw\r\n",
      "2017_January_23_envtstress_blank7.raw\r\n",
      "2017_January_23_envtstress_blank8_170124213729.raw\r\n",
      "2017_January_23_envtstress_blank8.raw\r\n",
      "2017_January_23_envtstress_blank9.raw\r\n",
      "2017_January_23_envtstress_geoduck10.raw\r\n",
      "2017_January_23_envtstress_geoduck11.raw\r\n",
      "2017_January_23_envtstress_geoduck12.raw\r\n",
      "2017_January_23_envtstress_geoduck13.raw\r\n",
      "2017_January_23_envtstress_geoduck14.raw\r\n",
      "2017_January_23_envtstress_geoduck15.raw\r\n",
      "2017_January_23_envtstress_geoduck17.raw\r\n",
      "2017_January_23_envtstress_geoduck18.raw\r\n",
      "2017_January_23_envtstress_geoduck19.raw\r\n",
      "2017_January_23_envtstress_geoduck1.raw\r\n",
      "2017_January_23_envtstress_geoduck20.raw\r\n",
      "2017_January_23_envtstress_geoduck2.raw\r\n",
      "2017_January_23_envtstress_geoduck3.raw\r\n",
      "2017_January_23_envtstress_geoduck4.raw\r\n",
      "2017_January_23_envtstress_geoduck5.raw\r\n",
      "2017_January_23_envtstress_geoduck6.raw\r\n",
      "2017_January_23_envtstress_geoduck7_170124190430.raw\r\n",
      "2017_January_23_envtstress_geoduck7.raw\r\n",
      "2017_January_23_envtstress_geoduck8.raw\r\n",
      "2017_January_23_envtstress_geoduck9.raw\r\n",
      "40min_Blank_2a85ec5b-43bf-4ca9-ba53-79d8b9c9489f..meth\r\n",
      "geoduck_DIA_5_30%B_110min_OTMS2_AGC_2e3.meth\r\n",
      "Geoduck-transcriptome-v2.transdecoder.pep\r\n",
      "index.cgi?launchApp=SYNO.SDS.App.FileStation3.Instance\r\n",
      "raw_checksum.sha\r\n",
      "rawlocal_checksum.sha\r\n"
     ]
    }
   ],
   "source": [
    "ls"
   ]
  },
  {
   "cell_type": "markdown",
   "metadata": {},
   "source": [
    "### Comparing local .raw files to those on Owl using checksums via `shasum -c`"
   ]
  },
  {
   "cell_type": "code",
   "execution_count": null,
   "metadata": {
    "collapsed": true
   },
   "outputs": [],
   "source": [
    "! shasum -c raw_checksum.sha rawlocal_checksum.sha > raw-checksum-results.txt  "
   ]
  }
 ],
 "metadata": {
  "anaconda-cloud": {},
  "kernelspec": {
   "display_name": "Python [default]",
   "language": "python",
   "name": "python3"
  },
  "language_info": {
   "codemirror_mode": {
    "name": "ipython",
    "version": 3
   },
   "file_extension": ".py",
   "mimetype": "text/x-python",
   "name": "python",
   "nbconvert_exporter": "python",
   "pygments_lexer": "ipython3",
   "version": "3.5.2"
  }
 },
 "nbformat": 4,
 "nbformat_minor": 2
}
