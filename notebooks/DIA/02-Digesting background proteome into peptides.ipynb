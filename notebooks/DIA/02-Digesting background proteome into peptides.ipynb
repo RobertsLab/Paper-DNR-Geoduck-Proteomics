{
 "cells": [
  {
   "cell_type": "markdown",
   "metadata": {},
   "source": [
    "# Digesting background fasta into peptides\n",
    "\n",
    "### One step before running PECAN is to tryptic digest our geoduck transcriptome fasta protein file _in silico_. We will use the Protein Digestion Simulator program, which breaks up our fasta into fragments, just like we did in our sample prep. The resulting file will constitute the \"background database\" to identify peptides measured in DIA data. "
   ]
  },
  {
   "cell_type": "markdown",
   "metadata": {},
   "source": [
    "### Software Needed: \n",
    "   * RStudio OR R\n",
    "   * Protein Digestion Simulator \n",
    "\n",
    "### Files Needed: \n",
    "  * [PRTC fasta](../../data/DIA/P00000_Pierce_prtc.fasta) from Emma\n",
    "  * [Geoduck Gonad Transcriptome](https://raw.githubusercontent.com/sr320/paper-pano-go/52c6b18b5b09e5c3a49250cf47ad4ddc8e9dc004/data-results/Geoduck-transcriptome-v2.transdecoder.pep), from Steven"
   ]
  },
  {
   "cell_type": "markdown",
   "metadata": {},
   "source": [
    "### First add the PRTC protein sequences, (standard that was added to all samples), to my background proteome fasta file\n",
    "\n",
    "Let's take a look at it the [PRTC fasta](../../data/DIA/P00000_Pierce_prtc.fasta). "
   ]
  },
  {
   "cell_type": "code",
   "execution_count": 4,
   "metadata": {
    "collapsed": false
   },
   "outputs": [
    {
     "name": "stdout",
     "output_type": "stream",
     "text": [
      ">P00000 Pierce Peptide Retention Time Calibration Mixture\r",
      "\r\n",
      "SSAAPPPPPRGISNEGQNASIKHVLTSIGEKDIPVPKPKIGDYAGIKTASEFDSAIAQDKSAAGAFGPELSRELGQSGVDTYLQTKGLILVGGYGTR\r",
      "\r\n",
      "GILFVGSGVSGGEEGARSFANQPLEVVYSKLTILEELRNGFILDGFPRELASGLSFPVGFKLSSEAPALFQFDLK\r",
      "\r\n"
     ]
    }
   ],
   "source": [
    "cat P00000_Pierce_prtc.fasta"
   ]
  },
  {
   "cell_type": "code",
   "execution_count": null,
   "metadata": {
    "collapsed": true
   },
   "outputs": [],
   "source": [
    "# Combine PRTC & Geoduck transcriptome fasta files:\n",
    "cat Geoduck-transcriptome-v2.transdecoder.pep P00000_Pierce_prtc.fasta > Geoduck-transcriptome-plus-PRTC.pep"
   ]
  },
  {
   "cell_type": "markdown",
   "metadata": {},
   "source": [
    "### Open Protein Digestion Simulator\n",
    "\n",
    "Here is the version I installed & used on Emu\n",
    "![PDS about](../../images/UsingPDS01.png)\n",
    "\n",
    "The program is a gui, but requires the use of WINE in Emu, so opening it is a bit convoluted. Here's how:"
   ]
  },
  {
   "cell_type": "code",
   "execution_count": 1,
   "metadata": {
    "collapsed": true
   },
   "outputs": [],
   "source": [
    "! cd ~/.wine32"
   ]
  },
  {
   "cell_type": "code",
   "execution_count": 2,
   "metadata": {
    "collapsed": false
   },
   "outputs": [
    {
     "name": "stdout",
     "output_type": "stream",
     "text": [
      "Preparing DNR geoduck files for Pecan.ipynb\r\n",
      "Using Protein Digestion Simulator on Emu.ipynb\r\n"
     ]
    }
   ],
   "source": [
    "ls"
   ]
  },
  {
   "cell_type": "code",
   "execution_count": 3,
   "metadata": {
    "collapsed": false
   },
   "outputs": [
    {
     "data": {
      "text/plain": [
       "u'/home/srlab/Documents/Laura/Jupyter'"
      ]
     },
     "execution_count": 3,
     "metadata": {},
     "output_type": "execute_result"
    }
   ],
   "source": [
    "pwd"
   ]
  },
  {
   "cell_type": "code",
   "execution_count": 4,
   "metadata": {
    "collapsed": false
   },
   "outputs": [
    {
     "name": "stdout",
     "output_type": "stream",
     "text": [
      "/home/srlab/.wine32\n"
     ]
    }
   ],
   "source": [
    "cd ~/.wine32"
   ]
  },
  {
   "cell_type": "code",
   "execution_count": 5,
   "metadata": {
    "collapsed": false
   },
   "outputs": [
    {
     "name": "stdout",
     "output_type": "stream",
     "text": [
      "\u001b[0m\u001b[01;34mdosdevices\u001b[0m/  \u001b[01;34mdrive_c\u001b[0m/  system.reg  userdef.reg  user.reg  winetricks.log\r\n"
     ]
    }
   ],
   "source": [
    "ls"
   ]
  },
  {
   "cell_type": "code",
   "execution_count": 6,
   "metadata": {
    "collapsed": false
   },
   "outputs": [
    {
     "name": "stdout",
     "output_type": "stream",
     "text": [
      "/home/srlab/.wine32/drive_c\n"
     ]
    }
   ],
   "source": [
    "cd drive_c/"
   ]
  },
  {
   "cell_type": "code",
   "execution_count": 7,
   "metadata": {
    "collapsed": false
   },
   "outputs": [
    {
     "name": "stdout",
     "output_type": "stream",
     "text": [
      "msfmsi.log  \u001b[0m\u001b[01;34mProgram Files\u001b[0m/  \u001b[01;34musers\u001b[0m/  \u001b[01;34mwindows\u001b[0m/\r\n"
     ]
    }
   ],
   "source": [
    "ls"
   ]
  },
  {
   "cell_type": "code",
   "execution_count": 8,
   "metadata": {
    "collapsed": false
   },
   "outputs": [
    {
     "name": "stdout",
     "output_type": "stream",
     "text": [
      "/home/srlab/.wine32/drive_c/Program Files\n"
     ]
    }
   ],
   "source": [
    "cd Program\\ Files"
   ]
  },
  {
   "cell_type": "code",
   "execution_count": 9,
   "metadata": {
    "collapsed": false
   },
   "outputs": [
    {
     "name": "stdout",
     "output_type": "stream",
     "text": [
      "\u001b[0m\u001b[01;34mCommon Files\u001b[0m/       \u001b[01;34mProteinDigestionSimulator\u001b[0m/  \u001b[01;34mWindows NT\u001b[0m/\r\n",
      "\u001b[01;34mInternet Explorer\u001b[0m/  \u001b[01;34mThermo\u001b[0m/\r\n",
      "\u001b[01;34mMicrosoft.NET\u001b[0m/      \u001b[01;34mWindows Media Player\u001b[0m/\r\n"
     ]
    }
   ],
   "source": [
    "ls"
   ]
  },
  {
   "cell_type": "code",
   "execution_count": 10,
   "metadata": {
    "collapsed": false
   },
   "outputs": [
    {
     "name": "stdout",
     "output_type": "stream",
     "text": [
      "/home/srlab/.wine32/drive_c/Program Files/ProteinDigestionSimulator\n"
     ]
    }
   ],
   "source": [
    "cd ProteinDigestionSimulator/"
   ]
  },
  {
   "cell_type": "code",
   "execution_count": null,
   "metadata": {
    "collapsed": true
   },
   "outputs": [],
   "source": [
    "! WINEPREFIX=~/.wine32 wine ProteinDigestionSimulator > runningPDS.txt"
   ]
  },
  {
   "cell_type": "markdown",
   "metadata": {},
   "source": [
    "### Used the following setting to digest our combined fasta file, Geoduck-transcriptome-plus-PRTC.pep\n",
    "\n",
    "### Tab 1:\n",
    "![Tab 1](../../images/UsingPDS02.png)\n",
    "\n",
    "### Tab 2:\n",
    "![Tab 2](../../images/UsingPDS03.png)\n",
    "\n",
    "### Tab 3:\n",
    "![Tab 3](../../images/UsingPDS04.png)\n",
    "\n",
    "### Tab 4:\n",
    "![Tab 4](../../images/UsingPDS05.png)\n",
    "\n",
    "### Progress (took ~30 minutes)\n",
    "![Progress](../../images/UsingPDS06.png)\n",
    "\n",
    "### Complete!\n",
    "![Complete!](../../images/UsingPDS07.png)"
   ]
  },
  {
   "cell_type": "code",
   "execution_count": null,
   "metadata": {
    "collapsed": true
   },
   "outputs": [],
   "source": []
  }
 ],
 "metadata": {
  "anaconda-cloud": {},
  "kernelspec": {
   "display_name": "Python [default]",
   "language": "python",
   "name": "python3"
  },
  "language_info": {
   "codemirror_mode": {
    "name": "ipython",
    "version": 3
   },
   "file_extension": ".py",
   "mimetype": "text/x-python",
   "name": "python",
   "nbconvert_exporter": "python",
   "pygments_lexer": "ipython3",
   "version": "3.5.2"
  }
 },
 "nbformat": 4,
 "nbformat_minor": 2
}
