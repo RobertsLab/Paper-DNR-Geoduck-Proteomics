{
 "cells": [
  {
   "cell_type": "markdown",
   "metadata": {},
   "source": [
    "# Prepare peptide database for _in silico_ digestion"
   ]
  },
  {
   "cell_type": "markdown",
   "metadata": {},
   "source": [
    "In this notebook we will prepare our background proteome, the geoduck gonad transcriptome, for digestion into peptides."
   ]
  },
  {
   "cell_type": "markdown",
   "metadata": {},
   "source": [
    "----\n",
    "\n",
    "## Step 1. Remove extraneous info from background proteome \n",
    "\n",
    "I received a protein fasta file from Steven, which will be used as the background proteome in PECAN.  First step is to edit the header data of each protein sequence to remove extraneous text. I do so in the following steps.  The resulting fasta file is saved on Owl, so feel free to download this file and skip to step 3. \n",
    "\n",
    "* **Input File:** Geoduck gonad transcriptome fasta file [Geoduck-transcriptome-v2.transdecoder.pep](https://raw.githubusercontent.com/sr320/paper-pano-go/52c6b18b5b09e5c3a49250cf47ad4ddc8e9dc004/data-results/Geoduck-transcriptome-v2.transdecoder.pep)\n",
    "* **Output File:** Geoduck gonad transcriptome fasta file with extraneous info removed from each header line [Geoduck-transcriptome-v2.transdecoder_TrimmedHeadr.pep](http://owl.fish.washington.edu/generosa/Generosa_DNR/Geoduck-transcriptome-v2.transdecoder_TrimmedHeadr.pep)"
   ]
  },
  {
   "cell_type": "code",
   "execution_count": 14,
   "metadata": {
    "collapsed": false
   },
   "outputs": [
    {
     "name": "stdout",
     "output_type": "stream",
     "text": [
      ">cds.comp100047_c0_seq1|m.5980 comp100047_c0_seq1|g.5980  ORF comp100047_c0_seq1|g.5980 comp100047_c0_seq1|m.5980 type:internal len:142 (-) comp100047_c0_seq1:3-425(-)\r\n",
      "NAECRDLYKIFTQILSVRSQEGKIVIPDEFATKIRNWLGNKEELFKEAHNQKIITFYNEY\r\n",
      "TREENTFNPIRGKRPMSVPDMPERKYIDQLSRKTQSQCDFCKYKTFTAEDTFGRIDSNFS\r\n",
      "CSASNAFKLDHWHALFLLKTH\r\n",
      ">cds.comp100068_c0_seq1|m.5981 comp100068_c0_seq1|g.5981  ORF comp100068_c0_seq1|g.5981 comp100068_c0_seq1|m.5981 type:internal len:106 (-) comp100068_c0_seq1:1-315(-)\r\n",
      "LFLDKSGKRICSFNNLTAVIEKATERASRIRLAKGLSQPKYLSCGNVDKVPAPGYLTASF\r\n",
      "TQLSVNKTRKDKGRNHLLLWDQTSSYSYIGPGIHYKDGKIRVNTT\r\n",
      ">cds.comp100097_c0_seq1|m.5982 comp100097_c0_seq1|g.5982  ORF comp100097_c0_seq1|g.5982 comp100097_c0_seq1|m.5982 type:internal len:227 (+) comp100097_c0_seq1:2-679(+)\r\n",
      "GTENLRICLKVIETYLLLGPREFLELYSGDLVHSLSNLLSDLRTEGVLLVLRVIELVLKS\r\n",
      "FPTEGPALFKSMLPEFLRAVLNKDEHPVVMSLYLTLFGRIVLQNQEFFWNFLDQMAMESH\r\n"
     ]
    }
   ],
   "source": [
    "# Let's see what the current header looks like\n",
    "!head ../../data/DIA/Geoduck-transcriptome-v2.transdecoder.pep"
   ]
  },
  {
   "cell_type": "code",
   "execution_count": 15,
   "metadata": {
    "collapsed": false
   },
   "outputs": [
    {
     "name": "stdout",
     "output_type": "stream",
     "text": [
      "35951\r\n"
     ]
    }
   ],
   "source": [
    "# Count how many lines there are in the fasta file pre-trimmed\n",
    "! grep -c '>' ../../data/DIA/Geoduck-transcriptome-v2.transdecoder.pep"
   ]
  },
  {
   "cell_type": "code",
   "execution_count": 18,
   "metadata": {
    "collapsed": true
   },
   "outputs": [],
   "source": [
    "# Remove extraneous text \n",
    "! cut -d \" \" -f 1 ../../data/DIA/Geoduck-transcriptome-v2.transdecoder.pep > \\\n",
    "../../data/DIA/Geoduck-transcriptome-v2.transdecoder_TrimmedHeadr.pep"
   ]
  },
  {
   "cell_type": "code",
   "execution_count": 19,
   "metadata": {
    "collapsed": false
   },
   "outputs": [
    {
     "name": "stdout",
     "output_type": "stream",
     "text": [
      "35951\r\n"
     ]
    }
   ],
   "source": [
    "# Confirm that I didn't lose any lines \n",
    "! grep -c '>' ../../data/DIA/Geoduck-transcriptome-v2.transdecoder_TrimmedHeadr.pep"
   ]
  },
  {
   "cell_type": "code",
   "execution_count": 20,
   "metadata": {
    "collapsed": false,
    "scrolled": true
   },
   "outputs": [
    {
     "name": "stdout",
     "output_type": "stream",
     "text": [
      ">cds.comp100047_c0_seq1|m.5980\r\n",
      "NAECRDLYKIFTQILSVRSQEGKIVIPDEFATKIRNWLGNKEELFKEAHNQKIITFYNEY\r\n",
      "TREENTFNPIRGKRPMSVPDMPERKYIDQLSRKTQSQCDFCKYKTFTAEDTFGRIDSNFS\r\n",
      "CSASNAFKLDHWHALFLLKTH\r\n",
      ">cds.comp100068_c0_seq1|m.5981\r\n",
      "LFLDKSGKRICSFNNLTAVIEKATERASRIRLAKGLSQPKYLSCGNVDKVPAPGYLTASF\r\n",
      "TQLSVNKTRKDKGRNHLLLWDQTSSYSYIGPGIHYKDGKIRVNTT\r\n",
      ">cds.comp100097_c0_seq1|m.5982\r\n",
      "GTENLRICLKVIETYLLLGPREFLELYSGDLVHSLSNLLSDLRTEGVLLVLRVIELVLKS\r\n",
      "FPTEGPALFKSMLPEFLRAVLNKDEHPVVMSLYLTLFGRIVLQNQEFFWNFLDQMAMESH\r\n"
     ]
    }
   ],
   "source": [
    "# Preview the edited fasta file \n",
    "! head ../../data/DIA/Geoduck-transcriptome-v2.transdecoder_TrimmedHeadr.pep"
   ]
  },
  {
   "cell_type": "markdown",
   "metadata": {},
   "source": [
    "--- \n",
    "\n",
    "## Step 2. Combine PRTC fasta with transcriptome fasta\n",
    "\n",
    "We added a standard, the Peptide Retention Time Calibration mixture (PRTC), to each sample before injecting during our mass spec run.  We need to include them in our background database so that PECAN assigns the transitions associated with PRTC correctly.\n",
    "\n",
    "* **Input Files:**\n",
    "  - Peptide Retention Time Calibration mixture (PRTC) protein sequence, fasta file: [P00000_Pierce_prtc.fasta](../../data/DIA/P00000_Pierce_prtc.fasta)\n",
    "  - Geoduck transcriptome with trimmed header, from Step 2: [Geoduck-transcriptome-v2.transdecoder_TrimmedHeadr.pep](http://owl.fish.washington.edu/generosa/Generosa_DNR/Geoduck-transcriptome-v2.transdecoder_TrimmedHeadr.pep)  \n",
    "* **Output File:** Combined geoduck transcriptome + PRTC fasta file: [GeoTranscriptomePRTC.fasta](http://owl.fish.washington.edu/generosa/Generosa_DNR/GeoTranscriptomePRTC.fasta)"
   ]
  },
  {
   "cell_type": "code",
   "execution_count": 9,
   "metadata": {
    "collapsed": false
   },
   "outputs": [
    {
     "name": "stdout",
     "output_type": "stream",
     "text": [
      ">P00000 Pierce Peptide Retention Time Calibration Mixture\r",
      "\r\n",
      "SSAAPPPPPRGISNEGQNASIKHVLTSIGEKDIPVPKPKIGDYAGIKTASEFDSAIAQDKSAAGAFGPELSRELGQSGVDTYLQTKGLILVGGYGTR\r",
      "\r\n",
      "GILFVGSGVSGGEEGARSFANQPLEVVYSKLTILEELRNGFILDGFPRELASGLSFPVGFKLSSEAPALFQFDLK\r",
      "\r\n"
     ]
    }
   ],
   "source": [
    "# Inspect PRTC fasta; it's short so we can print the whole thing out\n",
    "! cat ../data/DIA/P00000_Pierce_prtc.fasta"
   ]
  },
  {
   "cell_type": "code",
   "execution_count": 16,
   "metadata": {
    "collapsed": false
   },
   "outputs": [
    {
     "name": "stdout",
     "output_type": "stream",
     "text": [
      "QLHVLNLLVLLLPSVHRDMLEAVLDFLEKVVEHSATNKMSLSNVAMIMAPNLFMSPKVRA\r\n",
      "SPPGKTKRAWEIEIKMA\r\n",
      ">cds.comp99988_c0_seq1|m.5978\r\n",
      "INVNFSRFNESNLSLSGWANSGFHPAIEFECSKPLPLVGVSLFNPCREGEANGTLEVLDK\r\n",
      "DKVLICMNVNLVYDASKHYVDVMFQKPIHIDATKRYTLRQTLKGTDLTHGLNGNNVIEDK\r\n",
      "GVKVAFFTSNKDTGGSYEVYGQFFGIIFKC*\r\n",
      ">cds.comp99988_c0_seq2|m.5979\r\n",
      "INVNFSRFNESNLSLSGWANSGFHPAIEFECSKPLPLVGVSLFNPCREGEANGTLEVLDK\r\n",
      "DKVLICMNVNLVYDASKHYVDVMFQKPIHIDATKRYTLRQTLKGTDLTHGLNGNNVIEDK\r\n",
      "GVKVAFFTSNKDTGGSYEVYGQFFGIIFKC*\r\n"
     ]
    }
   ],
   "source": [
    "# Inspect the trimmed header geoduck transcriptome fasta; it's super long so let's just look at the tail, since we'll be adding the PRTC sequence to the end of this file\n",
    "! tail ../data/DIA/Geoduck-transcriptome-v2.transdecoder_TrimmedHeadr.pep"
   ]
  },
  {
   "cell_type": "code",
   "execution_count": 13,
   "metadata": {
    "collapsed": true
   },
   "outputs": [],
   "source": [
    "# Combine the two files\n",
    "! cat ../data/DIA/Geoduck-transcriptome-v2.transdecoder_TrimmedHeadr.pep ../data/DIA/P00000_Pierce_prtc.fasta > GeoTranscriptomePRTC.fasta"
   ]
  },
  {
   "cell_type": "code",
   "execution_count": 15,
   "metadata": {
    "collapsed": false
   },
   "outputs": [
    {
     "name": "stdout",
     "output_type": "stream",
     "text": [
      "INVNFSRFNESNLSLSGWANSGFHPAIEFECSKPLPLVGVSLFNPCREGEANGTLEVLDK\r\n",
      "DKVLICMNVNLVYDASKHYVDVMFQKPIHIDATKRYTLRQTLKGTDLTHGLNGNNVIEDK\r\n",
      "GVKVAFFTSNKDTGGSYEVYGQFFGIIFKC*\r\n",
      ">cds.comp99988_c0_seq2|m.5979\r\n",
      "INVNFSRFNESNLSLSGWANSGFHPAIEFECSKPLPLVGVSLFNPCREGEANGTLEVLDK\r\n",
      "DKVLICMNVNLVYDASKHYVDVMFQKPIHIDATKRYTLRQTLKGTDLTHGLNGNNVIEDK\r\n",
      "GVKVAFFTSNKDTGGSYEVYGQFFGIIFKC*\r\n",
      ">P00000 Pierce Peptide Retention Time Calibration Mixture\r",
      "\r\n",
      "SSAAPPPPPRGISNEGQNASIKHVLTSIGEKDIPVPKPKIGDYAGIKTASEFDSAIAQDKSAAGAFGPELSRELGQSGVDTYLQTKGLILVGGYGTR\r",
      "\r\n",
      "GILFVGSGVSGGEEGARSFANQPLEVVYSKLTILEELRNGFILDGFPRELASGLSFPVGFKLSSEAPALFQFDLK\r",
      "\r\n"
     ]
    }
   ],
   "source": [
    "# Inspect the tail of the resulting file\n",
    "! tail GeoTranscriptomePRTC.fasta"
   ]
  },
  {
   "cell_type": "code",
   "execution_count": 17,
   "metadata": {
    "collapsed": false
   },
   "outputs": [
    {
     "name": "stdout",
     "output_type": "stream",
     "text": [
      "35952\r\n"
     ]
    }
   ],
   "source": [
    "# See how many lines we have in the resulting file. From Step 1 we know we should have 35951 geoduck + 1 PRTC lines = 35952 lines\n",
    "! grep -c '>' GeoTranscriptomePRTC.fasta"
   ]
  }
 ],
 "metadata": {
  "anaconda-cloud": {},
  "kernelspec": {
   "display_name": "Python [default]",
   "language": "python",
   "name": "python3"
  },
  "language_info": {
   "codemirror_mode": {
    "name": "ipython",
    "version": 3
   },
   "file_extension": ".py",
   "mimetype": "text/x-python",
   "name": "python",
   "nbconvert_exporter": "python",
   "pygments_lexer": "ipython3",
   "version": "3.5.2"
  }
 },
 "nbformat": 4,
 "nbformat_minor": 2
}
